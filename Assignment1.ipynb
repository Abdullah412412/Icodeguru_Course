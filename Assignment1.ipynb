{
 "cells": [
  {
   "cell_type": "markdown",
   "id": "1f12a432-b493-4444-bdef-065191ac80d8",
   "metadata": {},
   "source": [
    "# 🐍 Python Basics Assignment\n",
    "### *By: Abdullah Iftikhar* ✨\n",
    "\n",
    "---\n",
    "\n",
    "## 1️⃣ Variables\n",
    "Variables allow us to store information for later use. Think of them as **containers** with labels.\n",
    "\n",
    "- Create a variable `name` to store your name and `age` to store your age.\n",
    "- Print them in a sentence.\n",
    "- Swap two variables `x` and `y` without using a third variable."
   ]
  },
  {
   "cell_type": "code",
   "execution_count": 1,
   "id": "18198b74-8f03-4429-9449-f4900e20e08f",
   "metadata": {},
   "outputs": [
    {
     "name": "stdout",
     "output_type": "stream",
     "text": [
      "My name is Abdullah and I am 20 years old.\n",
      "After swapping: x = 10 , y = 5\n"
     ]
    }
   ],
   "source": [
    "name = \"Abdullah\"\n",
    "age = 20\n",
    "print(f\"My name is {name} and I am {age} years old.\")\n",
    "\n",
    "# Swapping without a temporary variable\n",
    "x = 5\n",
    "y = 10\n",
    "x, y = y, x\n",
    "print(\"After swapping:\", \"x =\", x, \", y =\", y)"
   ]
  },
  {
   "cell_type": "markdown",
   "id": "7708470b-fe03-49b3-b2ad-25ab0ce63499",
   "metadata": {},
   "source": [
    "## 2️⃣ Operators\n",
    "Operators are the **symbols** that perform operations on variables and values.\n",
    "\n",
    "- Perform addition, subtraction, multiplication, and division on user inputs.\n",
    "- Check if a number is **even or odd** using `%` (modulo operator)."
   ]
  },
  {
   "cell_type": "code",
   "execution_count": 2,
   "id": "671e2d1a-a85b-4d45-85fb-0e8379785066",
   "metadata": {},
   "outputs": [
    {
     "name": "stdin",
     "output_type": "stream",
     "text": [
      "Enter first number:  6\n",
      "Enter second number:  3\n"
     ]
    },
    {
     "name": "stdout",
     "output_type": "stream",
     "text": [
      "Sum: 9\n",
      "Difference: 3\n",
      "Product: 18\n",
      "Quotient: 2.0\n"
     ]
    },
    {
     "name": "stdin",
     "output_type": "stream",
     "text": [
      "Enter a number:  7\n"
     ]
    },
    {
     "name": "stdout",
     "output_type": "stream",
     "text": [
      "7 is Odd\n"
     ]
    }
   ],
   "source": [
    "a = int(input(\"Enter first number: \"))\n",
    "b = int(input(\"Enter second number: \"))\n",
    "print(\"Sum:\", a + b)\n",
    "print(\"Difference:\", a - b)\n",
    "print(\"Product:\", a * b)\n",
    "print(\"Quotient:\", a / b)\n",
    "\n",
    "num = int(input(\"Enter a number: \"))\n",
    "if num % 2 == 0:\n",
    "    print(num, \"is Even\")\n",
    "else:\n",
    "    print(num, \"is Odd\")"
   ]
  },
  {
   "cell_type": "markdown",
   "id": "02971424-afd6-4e10-a3cf-8f9b8e40419e",
   "metadata": {},
   "source": [
    "## 3️⃣ Conditions\n",
    "Conditions let us make **decisions** in code.\n",
    "\n",
    "- Check if a person is eligible to vote (age ≥ 18).\n",
    "- Determine whether a number is **positive, negative, or zero**."
   ]
  },
  {
   "cell_type": "code",
   "execution_count": 3,
   "id": "d2383645-187c-4209-a6cb-e75767cbacea",
   "metadata": {},
   "outputs": [
    {
     "name": "stdin",
     "output_type": "stream",
     "text": [
      "Enter your age:  74\n"
     ]
    },
    {
     "name": "stdout",
     "output_type": "stream",
     "text": [
      "You are eligible to vote.\n"
     ]
    },
    {
     "name": "stdin",
     "output_type": "stream",
     "text": [
      "Enter a number:  33\n"
     ]
    },
    {
     "name": "stdout",
     "output_type": "stream",
     "text": [
      "Positive\n"
     ]
    }
   ],
   "source": [
    "age = int(input(\"Enter your age: \"))\n",
    "if age >= 18:\n",
    "    print(\"You are eligible to vote.\")\n",
    "else:\n",
    "    print(\"You are NOT eligible to vote.\")\n",
    "\n",
    "n = int(input(\"Enter a number: \"))\n",
    "if n > 0:\n",
    "    print(\"Positive\")\n",
    "elif n < 0:\n",
    "    print(\"Negative\")\n",
    "else:\n",
    "    print(\"Zero\")"
   ]
  },
  {
   "cell_type": "markdown",
   "id": "a028d121-125d-4f87-81e0-d9022e0bf3d9",
   "metadata": {},
   "source": [
    "## 4️⃣ Loops\n",
    "Loops allow us to **repeat actions**.\n",
    "\n",
    "- Print numbers from 1 to 10.\n",
    "- Print the multiplication table of a number.\n",
    "- Calculate the sum of numbers from 1 to `n`."
   ]
  },
  {
   "cell_type": "markdown",
   "id": "83148d70-04cd-428d-9aa9-e4a980f5a7c7",
   "metadata": {},
   "source": [
    "##### for i in range(1, 11):\n",
    "    print(i, end=\" \")\n",
    "print()\n",
    "\n",
    "num = int(input(\"Enter a number for its table: \"))\n",
    "for i in range(1, 11):\n",
    "    print(f\"{num} x {i} = {num * i}\")\n",
    "\n",
    "n = int(input(\"Enter n: \"))\n",
    "total = 0\n",
    "for i in range(1, n + 1):\n",
    "    total += i\n",
    "print(\"Sum =\", total)"
   ]
  },
  {
   "cell_type": "markdown",
   "id": "c05e04f2-cf24-4715-89ae-297fb9f1fe99",
   "metadata": {},
   "source": [
    "## 5️⃣ Functions\n",
    "Functions are **reusable blocks** of code.\n",
    "\n",
    "- Write a function to greet a user.\n",
    "- Write a function to check if a number is prime."
   ]
  },
  {
   "cell_type": "code",
   "execution_count": 5,
   "id": "a78405a8-a238-4ead-a75a-97a2c5b2678b",
   "metadata": {},
   "outputs": [
    {
     "name": "stdout",
     "output_type": "stream",
     "text": [
      "Hello, Abdullah!\n",
      "True\n"
     ]
    }
   ],
   "source": [
    "def greet(name):\n",
    "    print(f\"Hello, {name}!\")\n",
    "\n",
    "greet(\"Abdullah\")\n",
    "\n",
    "def is_prime(n):\n",
    "    if n < 2:\n",
    "        return False\n",
    "    for i in range(2, int(n**0.5) + 1):\n",
    "        if n % i == 0:\n",
    "            return False\n",
    "    return True\n",
    "\n",
    "print(is_prime(7))"
   ]
  },
  {
   "cell_type": "markdown",
   "id": "e302ce48-261c-4228-91ee-b572c8316f99",
   "metadata": {},
   "source": [
    "## 6️⃣ Lists\n",
    "Lists are ordered collections of items.\n",
    "\n",
    "- Create a list of fruits and access elements.\n",
    "- Add and remove elements.\n",
    "- Find max and min in a list of numbers."
   ]
  },
  {
   "cell_type": "code",
   "execution_count": 6,
   "id": "54326f2b-bcce-4270-9bf3-b2521a8cd749",
   "metadata": {},
   "outputs": [
    {
     "name": "stdout",
     "output_type": "stream",
     "text": [
      "Second fruit: Banana\n",
      "Last fruit: Grapes\n",
      "Updated list: ['Banana', 'Mango', 'Orange', 'Grapes', 'Pineapple']\n",
      "Max: 99\n",
      "Min: -3\n"
     ]
    }
   ],
   "source": [
    "fruits = [\"Apple\", \"Banana\", \"Mango\", \"Orange\", \"Grapes\"]\n",
    "print(\"Second fruit:\", fruits[1])\n",
    "print(\"Last fruit:\", fruits[-1])\n",
    "\n",
    "fruits.append(\"Pineapple\")\n",
    "fruits.pop(0)\n",
    "print(\"Updated list:\", fruits)\n",
    "\n",
    "numbers = [10, 2, 45, 7, 99, -3]\n",
    "print(\"Max:\", max(numbers))\n",
    "print(\"Min:\", min(numbers))"
   ]
  },
  {
   "cell_type": "markdown",
   "id": "f1aba3bb-d126-4216-94cf-ab62bfc41bf6",
   "metadata": {},
   "source": [
    "## 7️⃣ Dictionaries\n",
    "Dictionaries store data in **key-value pairs**.\n",
    "\n",
    "- Create a dictionary with personal details.\n",
    "- Add new key-value pairs.\n",
    "- Count frequency of characters in a string."
   ]
  },
  {
   "cell_type": "code",
   "execution_count": 7,
   "id": "24563225-211c-45c2-8fa7-2dfabacdd8e0",
   "metadata": {},
   "outputs": [
    {
     "name": "stdout",
     "output_type": "stream",
     "text": [
      "{'name': 'Abdullah', 'age': 22, 'city': 'Islamabad'}\n",
      "After adding country: {'name': 'Abdullah', 'age': 22, 'city': 'Islamabad', 'country': 'Pakistan'}\n",
      "Character frequency: {'h': 1, 'e': 1, 'l': 3, 'o': 2, ' ': 1, 'w': 1, 'r': 1, 'd': 1}\n"
     ]
    }
   ],
   "source": [
    "my_info = {\"name\": \"Abdullah\", \"age\": 22, \"city\": \"Islamabad\"}\n",
    "print(my_info)\n",
    "\n",
    "my_info[\"country\"] = \"Pakistan\"\n",
    "print(\"After adding country:\", my_info)\n",
    "\n",
    "string = \"hello world\"\n",
    "frequency = {}\n",
    "for char in string:\n",
    "    frequency[char] = frequency.get(char, 0) + 1\n",
    "print(\"Character frequency:\", frequency)"
   ]
  },
  {
   "cell_type": "markdown",
   "id": "23a31f0b-9faf-4d57-b49e-b0be4cb449f7",
   "metadata": {},
   "source": [
    "## 8️⃣ Sets\n",
    "Sets are **unordered collections** with no duplicates.\n",
    "\n",
    "- Perform union, intersection, and difference.\n",
    "- Remove duplicates from a list."
   ]
  },
  {
   "cell_type": "code",
   "execution_count": 8,
   "id": "a1f1574d-a31f-4494-af64-5ca99fc1ff7e",
   "metadata": {},
   "outputs": [
    {
     "name": "stdout",
     "output_type": "stream",
     "text": [
      "Union: {1, 2, 3, 4, 5, 6, 7, 8}\n",
      "Intersection: {4, 5}\n",
      "Difference: {1, 2, 3}\n",
      "List without duplicates: [1, 2, 3, 4, 5]\n"
     ]
    }
   ],
   "source": [
    "set1 = {1, 2, 3, 4, 5}\n",
    "set2 = {4, 5, 6, 7, 8}\n",
    "print(\"Union:\", set1 | set2)\n",
    "print(\"Intersection:\", set1 & set2)\n",
    "print(\"Difference:\", set1 - set2)\n",
    "\n",
    "nums = [1, 2, 2, 3, 4, 4, 5]\n",
    "unique = list(set(nums))\n",
    "print(\"List without duplicates:\", unique)"
   ]
  },
  {
   "cell_type": "markdown",
   "id": "21aece40-9961-4753-be9f-3e4b43973736",
   "metadata": {},
   "source": [
    "## 9️⃣ Tuples\n",
    "Tuples are **immutable lists**.\n",
    "\n",
    "- Access elements of a tuple.\n",
    "- Check if an element exists in a tuple."
   ]
  },
  {
   "cell_type": "code",
   "execution_count": 9,
   "id": "65e48c29-2ce2-4bbd-96a7-c6fff8083229",
   "metadata": {},
   "outputs": [
    {
     "name": "stdout",
     "output_type": "stream",
     "text": [
      "First element: 10\n",
      "Last element: 50\n",
      "30 exists in tuple\n"
     ]
    }
   ],
   "source": [
    "tuple1 = (10, 20, 30, 40, 50)\n",
    "print(\"First element:\", tuple1[0])\n",
    "print(\"Last element:\", tuple1[-1])\n",
    "\n",
    "if 30 in tuple1:\n",
    "    print(\"30 exists in tuple\")"
   ]
  },
  {
   "cell_type": "markdown",
   "id": "6514f939-fe9f-4314-90de-9da74b1f73c4",
   "metadata": {},
   "source": [
    "## 🔟 Exception Handling\n",
    "Errors happen! Exception handling helps our program **avoid crashes**.\n",
    "\n",
    "- Handle division by zero.\n",
    "- Handle invalid input."
   ]
  },
  {
   "cell_type": "code",
   "execution_count": 10,
   "id": "583abe09-1927-45d7-bdb5-8e6c25ec79a7",
   "metadata": {},
   "outputs": [
    {
     "name": "stdin",
     "output_type": "stream",
     "text": [
      "Enter numerator:  5\n",
      "Enter denominator:  0\n"
     ]
    },
    {
     "name": "stdout",
     "output_type": "stream",
     "text": [
      "Error: Cannot divide by zero!\n"
     ]
    },
    {
     "name": "stdin",
     "output_type": "stream",
     "text": [
      "Enter a number:  r\n"
     ]
    },
    {
     "name": "stdout",
     "output_type": "stream",
     "text": [
      "Error: That was not a valid number!\n"
     ]
    }
   ],
   "source": [
    "try:\n",
    "    a = int(input(\"Enter numerator: \"))\n",
    "    b = int(input(\"Enter denominator: \"))\n",
    "    print(\"Result =\", a / b)\n",
    "except ZeroDivisionError:\n",
    "    print(\"Error: Cannot divide by zero!\")\n",
    "\n",
    "try:\n",
    "    num = int(input(\"Enter a number: \"))\n",
    "    print(\"You entered:\", num)\n",
    "except ValueError:\n",
    "    print(\"Error: That was not a valid number!\")"
   ]
  },
  {
   "cell_type": "markdown",
   "id": "1f918279-4c4b-45c9-a024-1f19c05bba00",
   "metadata": {},
   "source": [
    "# 🎉 Conclusion\n",
    "This notebook covered the **fundamentals of Python**:\n",
    "- Variables, Operators, and Conditions ✅\n",
    "- Loops, Functions, and Lists ✅\n",
    "- Dictionaries, Sets, and Tuples ✅\n",
    "- Exception Handling ✅\n",
    "\n",
    "👉 Mastering these basics builds the foundation for advanced topics like **OOP, Data Science, and Machine Learning**. 🚀"
   ]
  }
 ],
 "metadata": {
  "kernelspec": {
   "display_name": "Python 3 (ipykernel)",
   "language": "python",
   "name": "python3"
  },
  "language_info": {
   "codemirror_mode": {
    "name": "ipython",
    "version": 3
   },
   "file_extension": ".py",
   "mimetype": "text/x-python",
   "name": "python",
   "nbconvert_exporter": "python",
   "pygments_lexer": "ipython3",
   "version": "3.12.5"
  },
  "widgets": {
   "application/vnd.jupyter.widget-state+json": {
    "state": {},
    "version_major": 2,
    "version_minor": 0
   }
  }
 },
 "nbformat": 4,
 "nbformat_minor": 5
}
